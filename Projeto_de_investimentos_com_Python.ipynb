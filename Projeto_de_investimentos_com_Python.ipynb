{
  "nbformat": 4,
  "nbformat_minor": 0,
  "metadata": {
    "colab": {
      "name": "Projeto de investimentos com Python.ipynb",
      "provenance": [],
      "collapsed_sections": [],
      "authorship_tag": "ABX9TyNhWhb00IXs0ET26FRtgaMs",
      "include_colab_link": true
    },
    "kernelspec": {
      "name": "python3",
      "display_name": "Python 3"
    },
    "language_info": {
      "name": "python"
    }
  },
  "cells": [
    {
      "cell_type": "markdown",
      "metadata": {
        "id": "view-in-github",
        "colab_type": "text"
      },
      "source": [
        "<a href=\"https://colab.research.google.com/github/9943956/Analise-da-rentabilidade-da-minha-Rig-de-mineracao-de-Criptoativos./blob/main/Projeto_de_investimentos_com_Python.ipynb\" target=\"_parent\"><img src=\"https://colab.research.google.com/assets/colab-badge.svg\" alt=\"Open In Colab\"/></a>"
      ]
    },
    {
      "cell_type": "markdown",
      "source": [
        "##Importandos as bibliotecas\n",
        "\n",
        "\n"
      ],
      "metadata": {
        "id": "41ojXANQeeED"
      }
    },
    {
      "cell_type": "code",
      "execution_count": null,
      "metadata": {
        "colab": {
          "base_uri": "https://localhost:8080/"
        },
        "id": "3w5nA31zJrRJ",
        "outputId": "a98ac72b-3ca5-4a92-8c18-c86796f943f9"
      },
      "outputs": [
        {
          "output_type": "stream",
          "name": "stdout",
          "text": [
            "Looking in indexes: https://pypi.org/simple, https://us-python.pkg.dev/colab-wheels/public/simple/\n",
            "Requirement already satisfied: yfinance in /usr/local/lib/python3.7/dist-packages (0.1.72)\n",
            "Requirement already satisfied: requests>=2.26 in /usr/local/lib/python3.7/dist-packages (from yfinance) (2.28.0)\n",
            "Requirement already satisfied: numpy>=1.15 in /usr/local/lib/python3.7/dist-packages (from yfinance) (1.21.6)\n",
            "Requirement already satisfied: multitasking>=0.0.7 in /usr/local/lib/python3.7/dist-packages (from yfinance) (0.0.10)\n",
            "Requirement already satisfied: lxml>=4.5.1 in /usr/local/lib/python3.7/dist-packages (from yfinance) (4.9.0)\n",
            "Requirement already satisfied: pandas>=0.24.0 in /usr/local/lib/python3.7/dist-packages (from yfinance) (1.3.5)\n",
            "Requirement already satisfied: python-dateutil>=2.7.3 in /usr/local/lib/python3.7/dist-packages (from pandas>=0.24.0->yfinance) (2.8.2)\n",
            "Requirement already satisfied: pytz>=2017.3 in /usr/local/lib/python3.7/dist-packages (from pandas>=0.24.0->yfinance) (2022.1)\n",
            "Requirement already satisfied: six>=1.5 in /usr/local/lib/python3.7/dist-packages (from python-dateutil>=2.7.3->pandas>=0.24.0->yfinance) (1.15.0)\n",
            "Requirement already satisfied: charset-normalizer~=2.0.0 in /usr/local/lib/python3.7/dist-packages (from requests>=2.26->yfinance) (2.0.12)\n",
            "Requirement already satisfied: idna<4,>=2.5 in /usr/local/lib/python3.7/dist-packages (from requests>=2.26->yfinance) (2.10)\n",
            "Requirement already satisfied: certifi>=2017.4.17 in /usr/local/lib/python3.7/dist-packages (from requests>=2.26->yfinance) (2022.6.15)\n",
            "Requirement already satisfied: urllib3<1.27,>=1.21.1 in /usr/local/lib/python3.7/dist-packages (from requests>=2.26->yfinance) (1.24.3)\n"
          ]
        }
      ],
      "source": [
        "import pandas as pd\n",
        "import matplotlib.pyplot as plt\n",
        "import pandas_datareader.data as web\n",
        "import scipy.stats as scs\n",
        "\n",
        "!pip install yfinance --upgrade --no-cache-dir\n",
        "import yfinance as yf\n",
        "yf.pdr_override()"
      ]
    },
    {
      "cell_type": "markdown",
      "source": [
        "## Codificação do projeto"
      ],
      "metadata": {
        "id": "3so8jnYWem39"
      }
    },
    {
      "cell_type": "code",
      "source": [
        "#Baixando os dados do Yahoo\n",
        "dados = ['PETR4.SA', 'VALE3.SA','BBAS3.SA', '^BVSP', 'EMBR3.SA']\n",
        "df = web.get_data_yahoo(dados, start = '2021-12-01')\n",
        "precos = df['Adj Close']\n",
        "precos"
      ],
      "metadata": {
        "colab": {
          "base_uri": "https://localhost:8080/",
          "height": 472
        },
        "id": "23gJRGERMp3k",
        "outputId": "e29819cc-2e2d-46b2-b134-930078cec834"
      },
      "execution_count": null,
      "outputs": [
        {
          "output_type": "stream",
          "name": "stdout",
          "text": [
            "[*********************100%***********************]  5 of 5 completed\n"
          ]
        },
        {
          "output_type": "execute_result",
          "data": {
            "text/plain": [
              "             BBAS3.SA   EMBR3.SA   PETR4.SA   VALE3.SA     ^BVSP\n",
              "Date                                                            \n",
              "2021-12-01  29.865723  18.299999  21.613478  67.629929  100775.0\n",
              "2021-12-02  30.686314  19.360001  23.262600  70.769234  104466.0\n",
              "2021-12-03  30.724482  19.150000  23.590704  69.209213  105070.0\n",
              "2021-12-06  31.554615  20.230000  23.697338  72.964821  106859.0\n",
              "2021-12-07  31.106150  20.299999  24.082861  73.504097  107558.0\n",
              "...               ...        ...        ...        ...       ...\n",
              "2022-06-10  34.293858  12.050000  29.650000  84.559998  105481.0\n",
              "2022-06-13  33.509716  11.350000  29.270000  81.879997  102598.0\n",
              "2022-06-14  33.520000  11.290000  29.600000  81.720001  102063.0\n",
              "2022-06-15  34.049999  11.580000  29.080000  81.669998  102807.0\n",
              "2022-06-17  34.130001  11.580000  27.309999  77.410004   99825.0\n",
              "\n",
              "[136 rows x 5 columns]"
            ],
            "text/html": [
              "\n",
              "  <div id=\"df-be24e38a-8e5d-4e6c-a1f7-7a0e8b675bc5\">\n",
              "    <div class=\"colab-df-container\">\n",
              "      <div>\n",
              "<style scoped>\n",
              "    .dataframe tbody tr th:only-of-type {\n",
              "        vertical-align: middle;\n",
              "    }\n",
              "\n",
              "    .dataframe tbody tr th {\n",
              "        vertical-align: top;\n",
              "    }\n",
              "\n",
              "    .dataframe thead th {\n",
              "        text-align: right;\n",
              "    }\n",
              "</style>\n",
              "<table border=\"1\" class=\"dataframe\">\n",
              "  <thead>\n",
              "    <tr style=\"text-align: right;\">\n",
              "      <th></th>\n",
              "      <th>BBAS3.SA</th>\n",
              "      <th>EMBR3.SA</th>\n",
              "      <th>PETR4.SA</th>\n",
              "      <th>VALE3.SA</th>\n",
              "      <th>^BVSP</th>\n",
              "    </tr>\n",
              "    <tr>\n",
              "      <th>Date</th>\n",
              "      <th></th>\n",
              "      <th></th>\n",
              "      <th></th>\n",
              "      <th></th>\n",
              "      <th></th>\n",
              "    </tr>\n",
              "  </thead>\n",
              "  <tbody>\n",
              "    <tr>\n",
              "      <th>2021-12-01</th>\n",
              "      <td>29.865723</td>\n",
              "      <td>18.299999</td>\n",
              "      <td>21.613478</td>\n",
              "      <td>67.629929</td>\n",
              "      <td>100775.0</td>\n",
              "    </tr>\n",
              "    <tr>\n",
              "      <th>2021-12-02</th>\n",
              "      <td>30.686314</td>\n",
              "      <td>19.360001</td>\n",
              "      <td>23.262600</td>\n",
              "      <td>70.769234</td>\n",
              "      <td>104466.0</td>\n",
              "    </tr>\n",
              "    <tr>\n",
              "      <th>2021-12-03</th>\n",
              "      <td>30.724482</td>\n",
              "      <td>19.150000</td>\n",
              "      <td>23.590704</td>\n",
              "      <td>69.209213</td>\n",
              "      <td>105070.0</td>\n",
              "    </tr>\n",
              "    <tr>\n",
              "      <th>2021-12-06</th>\n",
              "      <td>31.554615</td>\n",
              "      <td>20.230000</td>\n",
              "      <td>23.697338</td>\n",
              "      <td>72.964821</td>\n",
              "      <td>106859.0</td>\n",
              "    </tr>\n",
              "    <tr>\n",
              "      <th>2021-12-07</th>\n",
              "      <td>31.106150</td>\n",
              "      <td>20.299999</td>\n",
              "      <td>24.082861</td>\n",
              "      <td>73.504097</td>\n",
              "      <td>107558.0</td>\n",
              "    </tr>\n",
              "    <tr>\n",
              "      <th>...</th>\n",
              "      <td>...</td>\n",
              "      <td>...</td>\n",
              "      <td>...</td>\n",
              "      <td>...</td>\n",
              "      <td>...</td>\n",
              "    </tr>\n",
              "    <tr>\n",
              "      <th>2022-06-10</th>\n",
              "      <td>34.293858</td>\n",
              "      <td>12.050000</td>\n",
              "      <td>29.650000</td>\n",
              "      <td>84.559998</td>\n",
              "      <td>105481.0</td>\n",
              "    </tr>\n",
              "    <tr>\n",
              "      <th>2022-06-13</th>\n",
              "      <td>33.509716</td>\n",
              "      <td>11.350000</td>\n",
              "      <td>29.270000</td>\n",
              "      <td>81.879997</td>\n",
              "      <td>102598.0</td>\n",
              "    </tr>\n",
              "    <tr>\n",
              "      <th>2022-06-14</th>\n",
              "      <td>33.520000</td>\n",
              "      <td>11.290000</td>\n",
              "      <td>29.600000</td>\n",
              "      <td>81.720001</td>\n",
              "      <td>102063.0</td>\n",
              "    </tr>\n",
              "    <tr>\n",
              "      <th>2022-06-15</th>\n",
              "      <td>34.049999</td>\n",
              "      <td>11.580000</td>\n",
              "      <td>29.080000</td>\n",
              "      <td>81.669998</td>\n",
              "      <td>102807.0</td>\n",
              "    </tr>\n",
              "    <tr>\n",
              "      <th>2022-06-17</th>\n",
              "      <td>34.130001</td>\n",
              "      <td>11.580000</td>\n",
              "      <td>27.309999</td>\n",
              "      <td>77.410004</td>\n",
              "      <td>99825.0</td>\n",
              "    </tr>\n",
              "  </tbody>\n",
              "</table>\n",
              "<p>136 rows × 5 columns</p>\n",
              "</div>\n",
              "      <button class=\"colab-df-convert\" onclick=\"convertToInteractive('df-be24e38a-8e5d-4e6c-a1f7-7a0e8b675bc5')\"\n",
              "              title=\"Convert this dataframe to an interactive table.\"\n",
              "              style=\"display:none;\">\n",
              "        \n",
              "  <svg xmlns=\"http://www.w3.org/2000/svg\" height=\"24px\"viewBox=\"0 0 24 24\"\n",
              "       width=\"24px\">\n",
              "    <path d=\"M0 0h24v24H0V0z\" fill=\"none\"/>\n",
              "    <path d=\"M18.56 5.44l.94 2.06.94-2.06 2.06-.94-2.06-.94-.94-2.06-.94 2.06-2.06.94zm-11 1L8.5 8.5l.94-2.06 2.06-.94-2.06-.94L8.5 2.5l-.94 2.06-2.06.94zm10 10l.94 2.06.94-2.06 2.06-.94-2.06-.94-.94-2.06-.94 2.06-2.06.94z\"/><path d=\"M17.41 7.96l-1.37-1.37c-.4-.4-.92-.59-1.43-.59-.52 0-1.04.2-1.43.59L10.3 9.45l-7.72 7.72c-.78.78-.78 2.05 0 2.83L4 21.41c.39.39.9.59 1.41.59.51 0 1.02-.2 1.41-.59l7.78-7.78 2.81-2.81c.8-.78.8-2.07 0-2.86zM5.41 20L4 18.59l7.72-7.72 1.47 1.35L5.41 20z\"/>\n",
              "  </svg>\n",
              "      </button>\n",
              "      \n",
              "  <style>\n",
              "    .colab-df-container {\n",
              "      display:flex;\n",
              "      flex-wrap:wrap;\n",
              "      gap: 12px;\n",
              "    }\n",
              "\n",
              "    .colab-df-convert {\n",
              "      background-color: #E8F0FE;\n",
              "      border: none;\n",
              "      border-radius: 50%;\n",
              "      cursor: pointer;\n",
              "      display: none;\n",
              "      fill: #1967D2;\n",
              "      height: 32px;\n",
              "      padding: 0 0 0 0;\n",
              "      width: 32px;\n",
              "    }\n",
              "\n",
              "    .colab-df-convert:hover {\n",
              "      background-color: #E2EBFA;\n",
              "      box-shadow: 0px 1px 2px rgba(60, 64, 67, 0.3), 0px 1px 3px 1px rgba(60, 64, 67, 0.15);\n",
              "      fill: #174EA6;\n",
              "    }\n",
              "\n",
              "    [theme=dark] .colab-df-convert {\n",
              "      background-color: #3B4455;\n",
              "      fill: #D2E3FC;\n",
              "    }\n",
              "\n",
              "    [theme=dark] .colab-df-convert:hover {\n",
              "      background-color: #434B5C;\n",
              "      box-shadow: 0px 1px 3px 1px rgba(0, 0, 0, 0.15);\n",
              "      filter: drop-shadow(0px 1px 2px rgba(0, 0, 0, 0.3));\n",
              "      fill: #FFFFFF;\n",
              "    }\n",
              "  </style>\n",
              "\n",
              "      <script>\n",
              "        const buttonEl =\n",
              "          document.querySelector('#df-be24e38a-8e5d-4e6c-a1f7-7a0e8b675bc5 button.colab-df-convert');\n",
              "        buttonEl.style.display =\n",
              "          google.colab.kernel.accessAllowed ? 'block' : 'none';\n",
              "\n",
              "        async function convertToInteractive(key) {\n",
              "          const element = document.querySelector('#df-be24e38a-8e5d-4e6c-a1f7-7a0e8b675bc5');\n",
              "          const dataTable =\n",
              "            await google.colab.kernel.invokeFunction('convertToInteractive',\n",
              "                                                     [key], {});\n",
              "          if (!dataTable) return;\n",
              "\n",
              "          const docLinkHtml = 'Like what you see? Visit the ' +\n",
              "            '<a target=\"_blank\" href=https://colab.research.google.com/notebooks/data_table.ipynb>data table notebook</a>'\n",
              "            + ' to learn more about interactive tables.';\n",
              "          element.innerHTML = '';\n",
              "          dataTable['output_type'] = 'display_data';\n",
              "          await google.colab.output.renderOutput(dataTable, element);\n",
              "          const docLink = document.createElement('div');\n",
              "          docLink.innerHTML = docLinkHtml;\n",
              "          element.appendChild(docLink);\n",
              "        }\n",
              "      </script>\n",
              "    </div>\n",
              "  </div>\n",
              "  "
            ]
          },
          "metadata": {},
          "execution_count": 7
        }
      ]
    },
    {
      "cell_type": "code",
      "source": [
        "#trocando os titulos das colunas\n",
        "titulo = precos.columns=['BB','EMBRAER','PETRO','VALE','IBOV' ]\n",
        "precos.columns=['BB','EMBRAER','PETRO','VALE','IBOV' ]\n",
        "precos\n"
      ],
      "metadata": {
        "colab": {
          "base_uri": "https://localhost:8080/",
          "height": 455
        },
        "id": "XO81RmUpSDjY",
        "outputId": "8a736d94-6f78-423b-b130-183580e54418"
      },
      "execution_count": null,
      "outputs": [
        {
          "output_type": "execute_result",
          "data": {
            "text/plain": [
              "                   BB    EMBRAER      PETRO       VALE      IBOV\n",
              "Date                                                            \n",
              "2021-12-01  29.865723  18.299999  21.613478  67.629929  100775.0\n",
              "2021-12-02  30.686314  19.360001  23.262600  70.769234  104466.0\n",
              "2021-12-03  30.724482  19.150000  23.590704  69.209213  105070.0\n",
              "2021-12-06  31.554615  20.230000  23.697338  72.964821  106859.0\n",
              "2021-12-07  31.106150  20.299999  24.082861  73.504097  107558.0\n",
              "...               ...        ...        ...        ...       ...\n",
              "2022-06-10  34.293858  12.050000  29.650000  84.559998  105481.0\n",
              "2022-06-13  33.509716  11.350000  29.270000  81.879997  102598.0\n",
              "2022-06-14  33.520000  11.290000  29.600000  81.720001  102063.0\n",
              "2022-06-15  34.049999  11.580000  29.080000  81.669998  102807.0\n",
              "2022-06-17  34.130001  11.580000  27.309999  77.410004   99825.0\n",
              "\n",
              "[136 rows x 5 columns]"
            ],
            "text/html": [
              "\n",
              "  <div id=\"df-105b7c07-bfd0-404b-90bb-1f7e59841578\">\n",
              "    <div class=\"colab-df-container\">\n",
              "      <div>\n",
              "<style scoped>\n",
              "    .dataframe tbody tr th:only-of-type {\n",
              "        vertical-align: middle;\n",
              "    }\n",
              "\n",
              "    .dataframe tbody tr th {\n",
              "        vertical-align: top;\n",
              "    }\n",
              "\n",
              "    .dataframe thead th {\n",
              "        text-align: right;\n",
              "    }\n",
              "</style>\n",
              "<table border=\"1\" class=\"dataframe\">\n",
              "  <thead>\n",
              "    <tr style=\"text-align: right;\">\n",
              "      <th></th>\n",
              "      <th>BB</th>\n",
              "      <th>EMBRAER</th>\n",
              "      <th>PETRO</th>\n",
              "      <th>VALE</th>\n",
              "      <th>IBOV</th>\n",
              "    </tr>\n",
              "    <tr>\n",
              "      <th>Date</th>\n",
              "      <th></th>\n",
              "      <th></th>\n",
              "      <th></th>\n",
              "      <th></th>\n",
              "      <th></th>\n",
              "    </tr>\n",
              "  </thead>\n",
              "  <tbody>\n",
              "    <tr>\n",
              "      <th>2021-12-01</th>\n",
              "      <td>29.865723</td>\n",
              "      <td>18.299999</td>\n",
              "      <td>21.613478</td>\n",
              "      <td>67.629929</td>\n",
              "      <td>100775.0</td>\n",
              "    </tr>\n",
              "    <tr>\n",
              "      <th>2021-12-02</th>\n",
              "      <td>30.686314</td>\n",
              "      <td>19.360001</td>\n",
              "      <td>23.262600</td>\n",
              "      <td>70.769234</td>\n",
              "      <td>104466.0</td>\n",
              "    </tr>\n",
              "    <tr>\n",
              "      <th>2021-12-03</th>\n",
              "      <td>30.724482</td>\n",
              "      <td>19.150000</td>\n",
              "      <td>23.590704</td>\n",
              "      <td>69.209213</td>\n",
              "      <td>105070.0</td>\n",
              "    </tr>\n",
              "    <tr>\n",
              "      <th>2021-12-06</th>\n",
              "      <td>31.554615</td>\n",
              "      <td>20.230000</td>\n",
              "      <td>23.697338</td>\n",
              "      <td>72.964821</td>\n",
              "      <td>106859.0</td>\n",
              "    </tr>\n",
              "    <tr>\n",
              "      <th>2021-12-07</th>\n",
              "      <td>31.106150</td>\n",
              "      <td>20.299999</td>\n",
              "      <td>24.082861</td>\n",
              "      <td>73.504097</td>\n",
              "      <td>107558.0</td>\n",
              "    </tr>\n",
              "    <tr>\n",
              "      <th>...</th>\n",
              "      <td>...</td>\n",
              "      <td>...</td>\n",
              "      <td>...</td>\n",
              "      <td>...</td>\n",
              "      <td>...</td>\n",
              "    </tr>\n",
              "    <tr>\n",
              "      <th>2022-06-10</th>\n",
              "      <td>34.293858</td>\n",
              "      <td>12.050000</td>\n",
              "      <td>29.650000</td>\n",
              "      <td>84.559998</td>\n",
              "      <td>105481.0</td>\n",
              "    </tr>\n",
              "    <tr>\n",
              "      <th>2022-06-13</th>\n",
              "      <td>33.509716</td>\n",
              "      <td>11.350000</td>\n",
              "      <td>29.270000</td>\n",
              "      <td>81.879997</td>\n",
              "      <td>102598.0</td>\n",
              "    </tr>\n",
              "    <tr>\n",
              "      <th>2022-06-14</th>\n",
              "      <td>33.520000</td>\n",
              "      <td>11.290000</td>\n",
              "      <td>29.600000</td>\n",
              "      <td>81.720001</td>\n",
              "      <td>102063.0</td>\n",
              "    </tr>\n",
              "    <tr>\n",
              "      <th>2022-06-15</th>\n",
              "      <td>34.049999</td>\n",
              "      <td>11.580000</td>\n",
              "      <td>29.080000</td>\n",
              "      <td>81.669998</td>\n",
              "      <td>102807.0</td>\n",
              "    </tr>\n",
              "    <tr>\n",
              "      <th>2022-06-17</th>\n",
              "      <td>34.130001</td>\n",
              "      <td>11.580000</td>\n",
              "      <td>27.309999</td>\n",
              "      <td>77.410004</td>\n",
              "      <td>99825.0</td>\n",
              "    </tr>\n",
              "  </tbody>\n",
              "</table>\n",
              "<p>136 rows × 5 columns</p>\n",
              "</div>\n",
              "      <button class=\"colab-df-convert\" onclick=\"convertToInteractive('df-105b7c07-bfd0-404b-90bb-1f7e59841578')\"\n",
              "              title=\"Convert this dataframe to an interactive table.\"\n",
              "              style=\"display:none;\">\n",
              "        \n",
              "  <svg xmlns=\"http://www.w3.org/2000/svg\" height=\"24px\"viewBox=\"0 0 24 24\"\n",
              "       width=\"24px\">\n",
              "    <path d=\"M0 0h24v24H0V0z\" fill=\"none\"/>\n",
              "    <path d=\"M18.56 5.44l.94 2.06.94-2.06 2.06-.94-2.06-.94-.94-2.06-.94 2.06-2.06.94zm-11 1L8.5 8.5l.94-2.06 2.06-.94-2.06-.94L8.5 2.5l-.94 2.06-2.06.94zm10 10l.94 2.06.94-2.06 2.06-.94-2.06-.94-.94-2.06-.94 2.06-2.06.94z\"/><path d=\"M17.41 7.96l-1.37-1.37c-.4-.4-.92-.59-1.43-.59-.52 0-1.04.2-1.43.59L10.3 9.45l-7.72 7.72c-.78.78-.78 2.05 0 2.83L4 21.41c.39.39.9.59 1.41.59.51 0 1.02-.2 1.41-.59l7.78-7.78 2.81-2.81c.8-.78.8-2.07 0-2.86zM5.41 20L4 18.59l7.72-7.72 1.47 1.35L5.41 20z\"/>\n",
              "  </svg>\n",
              "      </button>\n",
              "      \n",
              "  <style>\n",
              "    .colab-df-container {\n",
              "      display:flex;\n",
              "      flex-wrap:wrap;\n",
              "      gap: 12px;\n",
              "    }\n",
              "\n",
              "    .colab-df-convert {\n",
              "      background-color: #E8F0FE;\n",
              "      border: none;\n",
              "      border-radius: 50%;\n",
              "      cursor: pointer;\n",
              "      display: none;\n",
              "      fill: #1967D2;\n",
              "      height: 32px;\n",
              "      padding: 0 0 0 0;\n",
              "      width: 32px;\n",
              "    }\n",
              "\n",
              "    .colab-df-convert:hover {\n",
              "      background-color: #E2EBFA;\n",
              "      box-shadow: 0px 1px 2px rgba(60, 64, 67, 0.3), 0px 1px 3px 1px rgba(60, 64, 67, 0.15);\n",
              "      fill: #174EA6;\n",
              "    }\n",
              "\n",
              "    [theme=dark] .colab-df-convert {\n",
              "      background-color: #3B4455;\n",
              "      fill: #D2E3FC;\n",
              "    }\n",
              "\n",
              "    [theme=dark] .colab-df-convert:hover {\n",
              "      background-color: #434B5C;\n",
              "      box-shadow: 0px 1px 3px 1px rgba(0, 0, 0, 0.15);\n",
              "      filter: drop-shadow(0px 1px 2px rgba(0, 0, 0, 0.3));\n",
              "      fill: #FFFFFF;\n",
              "    }\n",
              "  </style>\n",
              "\n",
              "      <script>\n",
              "        const buttonEl =\n",
              "          document.querySelector('#df-105b7c07-bfd0-404b-90bb-1f7e59841578 button.colab-df-convert');\n",
              "        buttonEl.style.display =\n",
              "          google.colab.kernel.accessAllowed ? 'block' : 'none';\n",
              "\n",
              "        async function convertToInteractive(key) {\n",
              "          const element = document.querySelector('#df-105b7c07-bfd0-404b-90bb-1f7e59841578');\n",
              "          const dataTable =\n",
              "            await google.colab.kernel.invokeFunction('convertToInteractive',\n",
              "                                                     [key], {});\n",
              "          if (!dataTable) return;\n",
              "\n",
              "          const docLinkHtml = 'Like what you see? Visit the ' +\n",
              "            '<a target=\"_blank\" href=https://colab.research.google.com/notebooks/data_table.ipynb>data table notebook</a>'\n",
              "            + ' to learn more about interactive tables.';\n",
              "          element.innerHTML = '';\n",
              "          dataTable['output_type'] = 'display_data';\n",
              "          await google.colab.output.renderOutput(dataTable, element);\n",
              "          const docLink = document.createElement('div');\n",
              "          docLink.innerHTML = docLinkHtml;\n",
              "          element.appendChild(docLink);\n",
              "        }\n",
              "      </script>\n",
              "    </div>\n",
              "  </div>\n",
              "  "
            ]
          },
          "metadata": {},
          "execution_count": 8
        }
      ]
    },
    {
      "cell_type": "code",
      "source": [
        "## Exportar os dados para o Excel\n",
        "precos.to_excel('precos.xlsx', encoding='utf-8', index=True)"
      ],
      "metadata": {
        "id": "GC61i1QURlSH"
      },
      "execution_count": null,
      "outputs": []
    },
    {
      "cell_type": "code",
      "source": [
        "## Plotar gráficos de preços na base 100\n",
        "(precos/precos.iloc[0]*100).plot(figsize= (16,8))"
      ],
      "metadata": {
        "id": "8uG7di9WT1NM",
        "colab": {
          "base_uri": "https://localhost:8080/",
          "height": 490
        },
        "outputId": "a067e2bf-be88-48f3-d939-99dc00cfd3e3"
      },
      "execution_count": null,
      "outputs": [
        {
          "output_type": "execute_result",
          "data": {
            "text/plain": [
              "<matplotlib.axes._subplots.AxesSubplot at 0x7f1414fcd490>"
            ]
          },
          "metadata": {},
          "execution_count": 10
        },
        {
          "output_type": "display_data",
          "data": {
            "text/plain": [
              "<Figure size 1152x576 with 1 Axes>"
            ],
            "image/png": "[encoded data removed]"
          },
          "metadata": {
            "needs_background": "light"
          }
        }
      ]
    },
    {
      "cell_type": "code",
      "source": [
        "## Estimando os retornos diários\n",
        "retornos=precos.pct_change()\n",
        "retornos=retornos.dropna()\n",
        "retornos"
      ],
      "metadata": {
        "id": "9iL-gGnxT1K8",
        "colab": {
          "base_uri": "https://localhost:8080/",
          "height": 455
        },
        "outputId": "11a4f082-745d-4b1c-9d98-5a1b59596c29"
      },
      "execution_count": null,
      "outputs": [
        {
          "output_type": "execute_result",
          "data": {
            "text/plain": [
              "                  BB   EMBRAER     PETRO      VALE      IBOV\n",
              "Date                                                        \n",
              "2021-12-02  0.027476  0.057924  0.076301  0.046419  0.036626\n",
              "2021-12-03  0.001244 -0.010847  0.014104 -0.022044  0.005782\n",
              "2021-12-06  0.027019  0.056397  0.004520  0.054265  0.017027\n",
              "2021-12-07 -0.014212  0.003460  0.016269  0.007391  0.006541\n",
              "2021-12-08  0.004601  0.049261 -0.000341 -0.007468  0.005002\n",
              "...              ...       ...       ...       ...       ...\n",
              "2022-06-10 -0.016790 -0.057120 -0.013967  0.000237 -0.015062\n",
              "2022-06-13 -0.022865 -0.058091 -0.012816 -0.031693 -0.027332\n",
              "2022-06-14  0.000307 -0.005286  0.011274 -0.001954 -0.005215\n",
              "2022-06-15  0.015811  0.025686 -0.017568 -0.000612  0.007290\n",
              "2022-06-17  0.002350  0.000000 -0.060867 -0.052161 -0.029006\n",
              "\n",
              "[135 rows x 5 columns]"
            ],
            "text/html": [
              "\n",
              "  <div id=\"df-2beff1c4-0cb8-4775-8c06-f1477cecb4dc\">\n",
              "    <div class=\"colab-df-container\">\n",
              "      <div>\n",
              "<style scoped>\n",
              "    .dataframe tbody tr th:only-of-type {\n",
              "        vertical-align: middle;\n",
              "    }\n",
              "\n",
              "    .dataframe tbody tr th {\n",
              "        vertical-align: top;\n",
              "    }\n",
              "\n",
              "    .dataframe thead th {\n",
              "        text-align: right;\n",
              "    }\n",
              "</style>\n",
              "<table border=\"1\" class=\"dataframe\">\n",
              "  <thead>\n",
              "    <tr style=\"text-align: right;\">\n",
              "      <th></th>\n",
              "      <th>BB</th>\n",
              "      <th>EMBRAER</th>\n",
              "      <th>PETRO</th>\n",
              "      <th>VALE</th>\n",
              "      <th>IBOV</th>\n",
              "    </tr>\n",
              "    <tr>\n",
              "      <th>Date</th>\n",
              "      <th></th>\n",
              "      <th></th>\n",
              "      <th></th>\n",
              "      <th></th>\n",
              "      <th></th>\n",
              "    </tr>\n",
              "  </thead>\n",
              "  <tbody>\n",
              "    <tr>\n",
              "      <th>2021-12-02</th>\n",
              "      <td>0.027476</td>\n",
              "      <td>0.057924</td>\n",
              "      <td>0.076301</td>\n",
              "      <td>0.046419</td>\n",
              "      <td>0.036626</td>\n",
              "    </tr>\n",
              "    <tr>\n",
              "      <th>2021-12-03</th>\n",
              "      <td>0.001244</td>\n",
              "      <td>-0.010847</td>\n",
              "      <td>0.014104</td>\n",
              "      <td>-0.022044</td>\n",
              "      <td>0.005782</td>\n",
              "    </tr>\n",
              "    <tr>\n",
              "      <th>2021-12-06</th>\n",
              "      <td>0.027019</td>\n",
              "      <td>0.056397</td>\n",
              "      <td>0.004520</td>\n",
              "      <td>0.054265</td>\n",
              "      <td>0.017027</td>\n",
              "    </tr>\n",
              "    <tr>\n",
              "      <th>2021-12-07</th>\n",
              "      <td>-0.014212</td>\n",
              "      <td>0.003460</td>\n",
              "      <td>0.016269</td>\n",
              "      <td>0.007391</td>\n",
              "      <td>0.006541</td>\n",
              "    </tr>\n",
              "    <tr>\n",
              "      <th>2021-12-08</th>\n",
              "      <td>0.004601</td>\n",
              "      <td>0.049261</td>\n",
              "      <td>-0.000341</td>\n",
              "      <td>-0.007468</td>\n",
              "      <td>0.005002</td>\n",
              "    </tr>\n",
              "    <tr>\n",
              "      <th>...</th>\n",
              "      <td>...</td>\n",
              "      <td>...</td>\n",
              "      <td>...</td>\n",
              "      <td>...</td>\n",
              "      <td>...</td>\n",
              "    </tr>\n",
              "    <tr>\n",
              "      <th>2022-06-10</th>\n",
              "      <td>-0.016790</td>\n",
              "      <td>-0.057120</td>\n",
              "      <td>-0.013967</td>\n",
              "      <td>0.000237</td>\n",
              "      <td>-0.015062</td>\n",
              "    </tr>\n",
              "    <tr>\n",
              "      <th>2022-06-13</th>\n",
              "      <td>-0.022865</td>\n",
              "      <td>-0.058091</td>\n",
              "      <td>-0.012816</td>\n",
              "      <td>-0.031693</td>\n",
              "      <td>-0.027332</td>\n",
              "    </tr>\n",
              "    <tr>\n",
              "      <th>2022-06-14</th>\n",
              "      <td>0.000307</td>\n",
              "      <td>-0.005286</td>\n",
              "      <td>0.011274</td>\n",
              "      <td>-0.001954</td>\n",
              "      <td>-0.005215</td>\n",
              "    </tr>\n",
              "    <tr>\n",
              "      <th>2022-06-15</th>\n",
              "      <td>0.015811</td>\n",
              "      <td>0.025686</td>\n",
              "      <td>-0.017568</td>\n",
              "      <td>-0.000612</td>\n",
              "      <td>0.007290</td>\n",
              "    </tr>\n",
              "    <tr>\n",
              "      <th>2022-06-17</th>\n",
              "      <td>0.002350</td>\n",
              "      <td>0.000000</td>\n",
              "      <td>-0.060867</td>\n",
              "      <td>-0.052161</td>\n",
              "      <td>-0.029006</td>\n",
              "    </tr>\n",
              "  </tbody>\n",
              "</table>\n",
              "<p>135 rows × 5 columns</p>\n",
              "</div>\n",
              "      <button class=\"colab-df-convert\" onclick=\"convertToInteractive('df-2beff1c4-0cb8-4775-8c06-f1477cecb4dc')\"\n",
              "              title=\"Convert this dataframe to an interactive table.\"\n",
              "              style=\"display:none;\">\n",
              "        \n",
              "  <svg xmlns=\"http://www.w3.org/2000/svg\" height=\"24px\"viewBox=\"0 0 24 24\"\n",
              "       width=\"24px\">\n",
              "    <path d=\"M0 0h24v24H0V0z\" fill=\"none\"/>\n",
              "    <path d=\"M18.56 5.44l.94 2.06.94-2.06 2.06-.94-2.06-.94-.94-2.06-.94 2.06-2.06.94zm-11 1L8.5 8.5l.94-2.06 2.06-.94-2.06-.94L8.5 2.5l-.94 2.06-2.06.94zm10 10l.94 2.06.94-2.06 2.06-.94-2.06-.94-.94-2.06-.94 2.06-2.06.94z\"/><path d=\"M17.41 7.96l-1.37-1.37c-.4-.4-.92-.59-1.43-.59-.52 0-1.04.2-1.43.59L10.3 9.45l-7.72 7.72c-.78.78-.78 2.05 0 2.83L4 21.41c.39.39.9.59 1.41.59.51 0 1.02-.2 1.41-.59l7.78-7.78 2.81-2.81c.8-.78.8-2.07 0-2.86zM5.41 20L4 18.59l7.72-7.72 1.47 1.35L5.41 20z\"/>\n",
              "  </svg>\n",
              "      </button>\n",
              "      \n",
              "  <style>\n",
              "    .colab-df-container {\n",
              "      display:flex;\n",
              "      flex-wrap:wrap;\n",
              "      gap: 12px;\n",
              "    }\n",
              "\n",
              "    .colab-df-convert {\n",
              "      background-color: #E8F0FE;\n",
              "      border: none;\n",
              "      border-radius: 50%;\n",
              "      cursor: pointer;\n",
              "      display: none;\n",
              "      fill: #1967D2;\n",
              "      height: 32px;\n",
              "      padding: 0 0 0 0;\n",
              "      width: 32px;\n",
              "    }\n",
              "\n",
              "    .colab-df-convert:hover {\n",
              "      background-color: #E2EBFA;\n",
              "      box-shadow: 0px 1px 2px rgba(60, 64, 67, 0.3), 0px 1px 3px 1px rgba(60, 64, 67, 0.15);\n",
              "      fill: #174EA6;\n",
              "    }\n",
              "\n",
              "    [theme=dark] .colab-df-convert {\n",
              "      background-color: #3B4455;\n",
              "      fill: #D2E3FC;\n",
              "    }\n",
              "\n",
              "    [theme=dark] .colab-df-convert:hover {\n",
              "      background-color: #434B5C;\n",
              "      box-shadow: 0px 1px 3px 1px rgba(0, 0, 0, 0.15);\n",
              "      filter: drop-shadow(0px 1px 2px rgba(0, 0, 0, 0.3));\n",
              "      fill: #FFFFFF;\n",
              "    }\n",
              "  </style>\n",
              "\n",
              "      <script>\n",
              "        const buttonEl =\n",
              "          document.querySelector('#df-2beff1c4-0cb8-4775-8c06-f1477cecb4dc button.colab-df-convert');\n",
              "        buttonEl.style.display =\n",
              "          google.colab.kernel.accessAllowed ? 'block' : 'none';\n",
              "\n",
              "        async function convertToInteractive(key) {\n",
              "          const element = document.querySelector('#df-2beff1c4-0cb8-4775-8c06-f1477cecb4dc');\n",
              "          const dataTable =\n",
              "            await google.colab.kernel.invokeFunction('convertToInteractive',\n",
              "                                                     [key], {});\n",
              "          if (!dataTable) return;\n",
              "\n",
              "          const docLinkHtml = 'Like what you see? Visit the ' +\n",
              "            '<a target=\"_blank\" href=https://colab.research.google.com/notebooks/data_table.ipynb>data table notebook</a>'\n",
              "            + ' to learn more about interactive tables.';\n",
              "          element.innerHTML = '';\n",
              "          dataTable['output_type'] = 'display_data';\n",
              "          await google.colab.output.renderOutput(dataTable, element);\n",
              "          const docLink = document.createElement('div');\n",
              "          docLink.innerHTML = docLinkHtml;\n",
              "          element.appendChild(docLink);\n",
              "        }\n",
              "      </script>\n",
              "    </div>\n",
              "  </div>\n",
              "  "
            ]
          },
          "metadata": {},
          "execution_count": 11
        }
      ]
    },
    {
      "cell_type": "code",
      "source": [
        "##Plotando o gráfico dos retornos\n",
        "retornos.plot(figsize=(16,8))"
      ],
      "metadata": {
        "id": "oPEu-wDWT1II",
        "colab": {
          "base_uri": "https://localhost:8080/",
          "height": 490
        },
        "outputId": "4bba2fd1-e7a8-43fc-dd07-053d372a8fbf"
      },
      "execution_count": null,
      "outputs": [
        {
          "output_type": "execute_result",
          "data": {
            "text/plain": [
              "<matplotlib.axes._subplots.AxesSubplot at 0x7f1417000550>"
            ]
          },
          "metadata": {},
          "execution_count": 12
        },
        {
          "output_type": "display_data",
          "data": {
            "text/plain": [
              "<Figure size 1152x576 with 1 Axes>"
            ],
            "image/png": "[encoded data removed]"
          },
          "metadata": {
            "needs_background": "light"
          }
        }
      ]
    },
    {
      "cell_type": "code",
      "source": [
        "##plotando Histogramas\n",
        "\n",
        "retornos.hist(bins=100, figsize=(16,8))"
      ],
      "metadata": {
        "id": "T4K_OoucT1DS",
        "colab": {
          "base_uri": "https://localhost:8080/",
          "height": 621
        },
        "outputId": "30d23422-e1c3-48e6-94c7-3a9dbaafe05e"
      },
      "execution_count": null,
      "outputs": [
        {
          "output_type": "execute_result",
          "data": {
            "text/plain": [
              "array([[<matplotlib.axes._subplots.AxesSubplot object at 0x7f1424340a50>,\n",
              "        <matplotlib.axes._subplots.AxesSubplot object at 0x7f14242e2990>],\n",
              "       [<matplotlib.axes._subplots.AxesSubplot object at 0x7f1424294f90>,\n",
              "        <matplotlib.axes._subplots.AxesSubplot object at 0x7f14242515d0>],\n",
              "       [<matplotlib.axes._subplots.AxesSubplot object at 0x7f1424286bd0>,\n",
              "        <matplotlib.axes._subplots.AxesSubplot object at 0x7f1424245210>]],\n",
              "      dtype=object)"
            ]
          },
          "metadata": {},
          "execution_count": 13
        },
        {
          "output_type": "display_data",
          "data": {
            "text/plain": [
              "<Figure size 1152x576 with 6 Axes>"
            ],
            "image/png": "[encoded data removed]"
          },
          "metadata": {
            "needs_background": "light"
          }
        }
      ]
    },
    {
      "cell_type": "markdown",
      "source": [
        "## Estatísticas Descritivas"
      ],
      "metadata": {
        "id": "aTErrr6sYYdz"
      }
    },
    {
      "cell_type": "code",
      "source": [
        "retornos.max()"
      ],
      "metadata": {
        "id": "e4zlLZ2kXE9G",
        "colab": {
          "base_uri": "https://localhost:8080/"
        },
        "outputId": "2560f208-c683-4488-b3b0-e8ca65a0ff67"
      },
      "execution_count": null,
      "outputs": [
        {
          "output_type": "execute_result",
          "data": {
            "text/plain": [
              "BB         0.056575\n",
              "EMBRAER    0.160221\n",
              "PETRO      0.076301\n",
              "VALE       0.079866\n",
              "IBOV       0.036626\n",
              "dtype: float64"
            ]
          },
          "metadata": {},
          "execution_count": 14
        }
      ]
    },
    {
      "cell_type": "code",
      "source": [
        "retornos.min()"
      ],
      "metadata": {
        "id": "a-mzRiq1YgLg",
        "colab": {
          "base_uri": "https://localhost:8080/"
        },
        "outputId": "956f29c9-9668-42f6-8036-0807c9501213"
      },
      "execution_count": null,
      "outputs": [
        {
          "output_type": "execute_result",
          "data": {
            "text/plain": [
              "BB        -0.042773\n",
              "EMBRAER   -0.149272\n",
              "PETRO     -0.070990\n",
              "VALE      -0.057963\n",
              "IBOV      -0.029006\n",
              "dtype: float64"
            ]
          },
          "metadata": {},
          "execution_count": 15
        }
      ]
    },
    {
      "cell_type": "code",
      "source": [
        "##Estimando a assimetria dos dados\n",
        "desvios= retornos-retornos.mean()\n",
        "sig=retornos.std(ddof=0)\n",
        "S=((desvios**3) / (sig**3)).mean()\n",
        "S\n",
        "\n"
      ],
      "metadata": {
        "id": "58sic068YiT4",
        "colab": {
          "base_uri": "https://localhost:8080/"
        },
        "outputId": "aab44591-edba-4a16-bfae-fa2ee2083ff2"
      },
      "execution_count": null,
      "outputs": [
        {
          "output_type": "execute_result",
          "data": {
            "text/plain": [
              "BB         0.338012\n",
              "EMBRAER    0.165668\n",
              "PETRO     -0.030621\n",
              "VALE       0.311040\n",
              "IBOV      -0.187123\n",
              "dtype: float64"
            ]
          },
          "metadata": {},
          "execution_count": 16
        }
      ]
    },
    {
      "cell_type": "code",
      "source": [
        "scs.skew(retornos)     ## fazendo exatamente a mesma coisa que o código acima, porém com o comando 'skew', então se torna um array"
      ],
      "metadata": {
        "id": "lEImrIE1Y9cZ",
        "colab": {
          "base_uri": "https://localhost:8080/"
        },
        "outputId": "ae9eb773-31fe-4c0d-be1d-ff33521aba8f"
      },
      "execution_count": null,
      "outputs": [
        {
          "output_type": "execute_result",
          "data": {
            "text/plain": [
              "array([ 0.33801183,  0.16566788, -0.03062105,  0.31104049, -0.18712282])"
            ]
          },
          "metadata": {},
          "execution_count": 17
        }
      ]
    },
    {
      "cell_type": "code",
      "source": [
        "scs.describe(retornos)"
      ],
      "metadata": {
        "id": "0ZHbwB7ZagGz",
        "colab": {
          "base_uri": "https://localhost:8080/"
        },
        "outputId": "7c7089a1-003e-4f30-b0df-7e506e30ec4c"
      },
      "execution_count": null,
      "outputs": [
        {
          "output_type": "execute_result",
          "data": {
            "text/plain": [
              "DescribeResult(nobs=135, minmax=(array([-0.04277288, -0.14927179, -0.07099038, -0.05796258, -0.02900581]), array([0.0565748 , 0.16022102, 0.07630064, 0.0798657 , 0.03662615])), mean=array([ 1.13173258e-03, -2.80983649e-03,  1.96717053e-03,  1.28254932e-03,\n",
              "        2.66753971e-06]), variance=array([0.00028864, 0.00115313, 0.00046938, 0.00057039, 0.00014649]), skewness=array([ 0.33801183,  0.16566788, -0.03062105,  0.31104049, -0.18712282]), kurtosis=array([0.72610223, 5.04077502, 1.48559691, 0.54019657, 0.05836937]))"
            ]
          },
          "metadata": {},
          "execution_count": 18
        }
      ]
    },
    {
      "cell_type": "code",
      "source": [
        "estat = scs.describe(retornos)\n",
        "colunas = ['BB','EMBRAER','PETRO','VALE','IBOV' ]\n",
        "linhas = ['Minimo', 'Máximo', 'Média', 'Variância','Desvio-Padrão','Assimetria','Curtose']\n",
        "min = estat[1][0]\n",
        "max = estat[1][1]\n",
        "media = estat[2]\n",
        "variancia = estat[3]\n",
        "desvio_padrao = variancia**(1/2)\n",
        "assimetria = estat[4]\n",
        "curtose = estat[5]\n",
        "estat_desc = [min, max, media, variancia, desvio_padrao, assimetria, curtose]\n",
        "estat_desc\n",
        "\n",
        "df=pd.DataFrame(data= estat_desc, index = linhas, columns = colunas)\n",
        "df"
      ],
      "metadata": {
        "id": "DA4rgEQJahyF",
        "colab": {
          "base_uri": "https://localhost:8080/",
          "height": 269
        },
        "outputId": "a8cfb099-7a2d-4ea2-e0e9-7cbdc800e642"
      },
      "execution_count": null,
      "outputs": [
        {
          "output_type": "execute_result",
          "data": {
            "text/plain": [
              "                     BB   EMBRAER     PETRO      VALE      IBOV\n",
              "Minimo        -0.042773 -0.149272 -0.070990 -0.057963 -0.029006\n",
              "Máximo         0.056575  0.160221  0.076301  0.079866  0.036626\n",
              "Média          0.001132 -0.002810  0.001967  0.001283  0.000003\n",
              "Variância      0.000289  0.001153  0.000469  0.000570  0.000146\n",
              "Desvio-Padrão  0.016990  0.033958  0.021665  0.023883  0.012103\n",
              "Assimetria     0.338012  0.165668 -0.030621  0.311040 -0.187123\n",
              "Curtose        0.726102  5.040775  1.485597  0.540197  0.058369"
            ],
            "text/html": [
              "\n",
              "  <div id=\"df-795b66b4-408d-4169-9030-4b67c28b991d\">\n",
              "    <div class=\"colab-df-container\">\n",
              "      <div>\n",
              "<style scoped>\n",
              "    .dataframe tbody tr th:only-of-type {\n",
              "        vertical-align: middle;\n",
              "    }\n",
              "\n",
              "    .dataframe tbody tr th {\n",
              "        vertical-align: top;\n",
              "    }\n",
              "\n",
              "    .dataframe thead th {\n",
              "        text-align: right;\n",
              "    }\n",
              "</style>\n",
              "<table border=\"1\" class=\"dataframe\">\n",
              "  <thead>\n",
              "    <tr style=\"text-align: right;\">\n",
              "      <th></th>\n",
              "      <th>BB</th>\n",
              "      <th>EMBRAER</th>\n",
              "      <th>PETRO</th>\n",
              "      <th>VALE</th>\n",
              "      <th>IBOV</th>\n",
              "    </tr>\n",
              "  </thead>\n",
              "  <tbody>\n",
              "    <tr>\n",
              "      <th>Minimo</th>\n",
              "      <td>-0.042773</td>\n",
              "      <td>-0.149272</td>\n",
              "      <td>-0.070990</td>\n",
              "      <td>-0.057963</td>\n",
              "      <td>-0.029006</td>\n",
              "    </tr>\n",
              "    <tr>\n",
              "      <th>Máximo</th>\n",
              "      <td>0.056575</td>\n",
              "      <td>0.160221</td>\n",
              "      <td>0.076301</td>\n",
              "      <td>0.079866</td>\n",
              "      <td>0.036626</td>\n",
              "    </tr>\n",
              "    <tr>\n",
              "      <th>Média</th>\n",
              "      <td>0.001132</td>\n",
              "      <td>-0.002810</td>\n",
              "      <td>0.001967</td>\n",
              "      <td>0.001283</td>\n",
              "      <td>0.000003</td>\n",
              "    </tr>\n",
              "    <tr>\n",
              "      <th>Variância</th>\n",
              "      <td>0.000289</td>\n",
              "      <td>0.001153</td>\n",
              "      <td>0.000469</td>\n",
              "      <td>0.000570</td>\n",
              "      <td>0.000146</td>\n",
              "    </tr>\n",
              "    <tr>\n",
              "      <th>Desvio-Padrão</th>\n",
              "      <td>0.016990</td>\n",
              "      <td>0.033958</td>\n",
              "      <td>0.021665</td>\n",
              "      <td>0.023883</td>\n",
              "      <td>0.012103</td>\n",
              "    </tr>\n",
              "    <tr>\n",
              "      <th>Assimetria</th>\n",
              "      <td>0.338012</td>\n",
              "      <td>0.165668</td>\n",
              "      <td>-0.030621</td>\n",
              "      <td>0.311040</td>\n",
              "      <td>-0.187123</td>\n",
              "    </tr>\n",
              "    <tr>\n",
              "      <th>Curtose</th>\n",
              "      <td>0.726102</td>\n",
              "      <td>5.040775</td>\n",
              "      <td>1.485597</td>\n",
              "      <td>0.540197</td>\n",
              "      <td>0.058369</td>\n",
              "    </tr>\n",
              "  </tbody>\n",
              "</table>\n",
              "</div>\n",
              "      <button class=\"colab-df-convert\" onclick=\"convertToInteractive('df-795b66b4-408d-4169-9030-4b67c28b991d')\"\n",
              "              title=\"Convert this dataframe to an interactive table.\"\n",
              "              style=\"display:none;\">\n",
              "        \n",
              "  <svg xmlns=\"http://www.w3.org/2000/svg\" height=\"24px\"viewBox=\"0 0 24 24\"\n",
              "       width=\"24px\">\n",
              "    <path d=\"M0 0h24v24H0V0z\" fill=\"none\"/>\n",
              "    <path d=\"M18.56 5.44l.94 2.06.94-2.06 2.06-.94-2.06-.94-.94-2.06-.94 2.06-2.06.94zm-11 1L8.5 8.5l.94-2.06 2.06-.94-2.06-.94L8.5 2.5l-.94 2.06-2.06.94zm10 10l.94 2.06.94-2.06 2.06-.94-2.06-.94-.94-2.06-.94 2.06-2.06.94z\"/><path d=\"M17.41 7.96l-1.37-1.37c-.4-.4-.92-.59-1.43-.59-.52 0-1.04.2-1.43.59L10.3 9.45l-7.72 7.72c-.78.78-.78 2.05 0 2.83L4 21.41c.39.39.9.59 1.41.59.51 0 1.02-.2 1.41-.59l7.78-7.78 2.81-2.81c.8-.78.8-2.07 0-2.86zM5.41 20L4 18.59l7.72-7.72 1.47 1.35L5.41 20z\"/>\n",
              "  </svg>\n",
              "      </button>\n",
              "      \n",
              "  <style>\n",
              "    .colab-df-container {\n",
              "      display:flex;\n",
              "      flex-wrap:wrap;\n",
              "      gap: 12px;\n",
              "    }\n",
              "\n",
              "    .colab-df-convert {\n",
              "      background-color: #E8F0FE;\n",
              "      border: none;\n",
              "      border-radius: 50%;\n",
              "      cursor: pointer;\n",
              "      display: none;\n",
              "      fill: #1967D2;\n",
              "      height: 32px;\n",
              "      padding: 0 0 0 0;\n",
              "      width: 32px;\n",
              "    }\n",
              "\n",
              "    .colab-df-convert:hover {\n",
              "      background-color: #E2EBFA;\n",
              "      box-shadow: 0px 1px 2px rgba(60, 64, 67, 0.3), 0px 1px 3px 1px rgba(60, 64, 67, 0.15);\n",
              "      fill: #174EA6;\n",
              "    }\n",
              "\n",
              "    [theme=dark] .colab-df-convert {\n",
              "      background-color: #3B4455;\n",
              "      fill: #D2E3FC;\n",
              "    }\n",
              "\n",
              "    [theme=dark] .colab-df-convert:hover {\n",
              "      background-color: #434B5C;\n",
              "      box-shadow: 0px 1px 3px 1px rgba(0, 0, 0, 0.15);\n",
              "      filter: drop-shadow(0px 1px 2px rgba(0, 0, 0, 0.3));\n",
              "      fill: #FFFFFF;\n",
              "    }\n",
              "  </style>\n",
              "\n",
              "      <script>\n",
              "        const buttonEl =\n",
              "          document.querySelector('#df-795b66b4-408d-4169-9030-4b67c28b991d button.colab-df-convert');\n",
              "        buttonEl.style.display =\n",
              "          google.colab.kernel.accessAllowed ? 'block' : 'none';\n",
              "\n",
              "        async function convertToInteractive(key) {\n",
              "          const element = document.querySelector('#df-795b66b4-408d-4169-9030-4b67c28b991d');\n",
              "          const dataTable =\n",
              "            await google.colab.kernel.invokeFunction('convertToInteractive',\n",
              "                                                     [key], {});\n",
              "          if (!dataTable) return;\n",
              "\n",
              "          const docLinkHtml = 'Like what you see? Visit the ' +\n",
              "            '<a target=\"_blank\" href=https://colab.research.google.com/notebooks/data_table.ipynb>data table notebook</a>'\n",
              "            + ' to learn more about interactive tables.';\n",
              "          element.innerHTML = '';\n",
              "          dataTable['output_type'] = 'display_data';\n",
              "          await google.colab.output.renderOutput(dataTable, element);\n",
              "          const docLink = document.createElement('div');\n",
              "          docLink.innerHTML = docLinkHtml;\n",
              "          element.appendChild(docLink);\n",
              "        }\n",
              "      </script>\n",
              "    </div>\n",
              "  </div>\n",
              "  "
            ]
          },
          "metadata": {},
          "execution_count": 19
        }
      ]
    },
    {
      "cell_type": "code",
      "source": [
        "## Estimar os retornos esperados\n",
        "t = titulo\n",
        "r_e = retornos.mean()\n",
        "var = retornos.var()\n",
        "vol = var**0.5\n",
        "\n",
        "## Estimando a matriz de covariância\n",
        "matriz_covar= retornos.cov()\n",
        "matriz_covar"
      ],
      "metadata": {
        "id": "I47BM_zsc9iY",
        "colab": {
          "base_uri": "https://localhost:8080/",
          "height": 206
        },
        "outputId": "bbb0215c-1835-4371-b9be-4afd76d6b074"
      },
      "execution_count": null,
      "outputs": [
        {
          "output_type": "execute_result",
          "data": {
            "text/plain": [
              "               BB   EMBRAER     PETRO      VALE      IBOV\n",
              "BB       0.000289  0.000196  0.000141  0.000038  0.000126\n",
              "EMBRAER  0.000196  0.001153  0.000124  0.000098  0.000196\n",
              "PETRO    0.000141  0.000124  0.000469  0.000138  0.000148\n",
              "VALE     0.000038  0.000098  0.000138  0.000570  0.000156\n",
              "IBOV     0.000126  0.000196  0.000148  0.000156  0.000146"
            ],
            "text/html": [
              "\n",
              "  <div id=\"df-b1a0d6f1-9607-4c27-bbe4-0095f5eaeb18\">\n",
              "    <div class=\"colab-df-container\">\n",
              "      <div>\n",
              "<style scoped>\n",
              "    .dataframe tbody tr th:only-of-type {\n",
              "        vertical-align: middle;\n",
              "    }\n",
              "\n",
              "    .dataframe tbody tr th {\n",
              "        vertical-align: top;\n",
              "    }\n",
              "\n",
              "    .dataframe thead th {\n",
              "        text-align: right;\n",
              "    }\n",
              "</style>\n",
              "<table border=\"1\" class=\"dataframe\">\n",
              "  <thead>\n",
              "    <tr style=\"text-align: right;\">\n",
              "      <th></th>\n",
              "      <th>BB</th>\n",
              "      <th>EMBRAER</th>\n",
              "      <th>PETRO</th>\n",
              "      <th>VALE</th>\n",
              "      <th>IBOV</th>\n",
              "    </tr>\n",
              "  </thead>\n",
              "  <tbody>\n",
              "    <tr>\n",
              "      <th>BB</th>\n",
              "      <td>0.000289</td>\n",
              "      <td>0.000196</td>\n",
              "      <td>0.000141</td>\n",
              "      <td>0.000038</td>\n",
              "      <td>0.000126</td>\n",
              "    </tr>\n",
              "    <tr>\n",
              "      <th>EMBRAER</th>\n",
              "      <td>0.000196</td>\n",
              "      <td>0.001153</td>\n",
              "      <td>0.000124</td>\n",
              "      <td>0.000098</td>\n",
              "      <td>0.000196</td>\n",
              "    </tr>\n",
              "    <tr>\n",
              "      <th>PETRO</th>\n",
              "      <td>0.000141</td>\n",
              "      <td>0.000124</td>\n",
              "      <td>0.000469</td>\n",
              "      <td>0.000138</td>\n",
              "      <td>0.000148</td>\n",
              "    </tr>\n",
              "    <tr>\n",
              "      <th>VALE</th>\n",
              "      <td>0.000038</td>\n",
              "      <td>0.000098</td>\n",
              "      <td>0.000138</td>\n",
              "      <td>0.000570</td>\n",
              "      <td>0.000156</td>\n",
              "    </tr>\n",
              "    <tr>\n",
              "      <th>IBOV</th>\n",
              "      <td>0.000126</td>\n",
              "      <td>0.000196</td>\n",
              "      <td>0.000148</td>\n",
              "      <td>0.000156</td>\n",
              "      <td>0.000146</td>\n",
              "    </tr>\n",
              "  </tbody>\n",
              "</table>\n",
              "</div>\n",
              "      <button class=\"colab-df-convert\" onclick=\"convertToInteractive('df-b1a0d6f1-9607-4c27-bbe4-0095f5eaeb18')\"\n",
              "              title=\"Convert this dataframe to an interactive table.\"\n",
              "              style=\"display:none;\">\n",
              "        \n",
              "  <svg xmlns=\"http://www.w3.org/2000/svg\" height=\"24px\"viewBox=\"0 0 24 24\"\n",
              "       width=\"24px\">\n",
              "    <path d=\"M0 0h24v24H0V0z\" fill=\"none\"/>\n",
              "    <path d=\"M18.56 5.44l.94 2.06.94-2.06 2.06-.94-2.06-.94-.94-2.06-.94 2.06-2.06.94zm-11 1L8.5 8.5l.94-2.06 2.06-.94-2.06-.94L8.5 2.5l-.94 2.06-2.06.94zm10 10l.94 2.06.94-2.06 2.06-.94-2.06-.94-.94-2.06-.94 2.06-2.06.94z\"/><path d=\"M17.41 7.96l-1.37-1.37c-.4-.4-.92-.59-1.43-.59-.52 0-1.04.2-1.43.59L10.3 9.45l-7.72 7.72c-.78.78-.78 2.05 0 2.83L4 21.41c.39.39.9.59 1.41.59.51 0 1.02-.2 1.41-.59l7.78-7.78 2.81-2.81c.8-.78.8-2.07 0-2.86zM5.41 20L4 18.59l7.72-7.72 1.47 1.35L5.41 20z\"/>\n",
              "  </svg>\n",
              "      </button>\n",
              "      \n",
              "  <style>\n",
              "    .colab-df-container {\n",
              "      display:flex;\n",
              "      flex-wrap:wrap;\n",
              "      gap: 12px;\n",
              "    }\n",
              "\n",
              "    .colab-df-convert {\n",
              "      background-color: #E8F0FE;\n",
              "      border: none;\n",
              "      border-radius: 50%;\n",
              "      cursor: pointer;\n",
              "      display: none;\n",
              "      fill: #1967D2;\n",
              "      height: 32px;\n",
              "      padding: 0 0 0 0;\n",
              "      width: 32px;\n",
              "    }\n",
              "\n",
              "    .colab-df-convert:hover {\n",
              "      background-color: #E2EBFA;\n",
              "      box-shadow: 0px 1px 2px rgba(60, 64, 67, 0.3), 0px 1px 3px 1px rgba(60, 64, 67, 0.15);\n",
              "      fill: #174EA6;\n",
              "    }\n",
              "\n",
              "    [theme=dark] .colab-df-convert {\n",
              "      background-color: #3B4455;\n",
              "      fill: #D2E3FC;\n",
              "    }\n",
              "\n",
              "    [theme=dark] .colab-df-convert:hover {\n",
              "      background-color: #434B5C;\n",
              "      box-shadow: 0px 1px 3px 1px rgba(0, 0, 0, 0.15);\n",
              "      filter: drop-shadow(0px 1px 2px rgba(0, 0, 0, 0.3));\n",
              "      fill: #FFFFFF;\n",
              "    }\n",
              "  </style>\n",
              "\n",
              "      <script>\n",
              "        const buttonEl =\n",
              "          document.querySelector('#df-b1a0d6f1-9607-4c27-bbe4-0095f5eaeb18 button.colab-df-convert');\n",
              "        buttonEl.style.display =\n",
              "          google.colab.kernel.accessAllowed ? 'block' : 'none';\n",
              "\n",
              "        async function convertToInteractive(key) {\n",
              "          const element = document.querySelector('#df-b1a0d6f1-9607-4c27-bbe4-0095f5eaeb18');\n",
              "          const dataTable =\n",
              "            await google.colab.kernel.invokeFunction('convertToInteractive',\n",
              "                                                     [key], {});\n",
              "          if (!dataTable) return;\n",
              "\n",
              "          const docLinkHtml = 'Like what you see? Visit the ' +\n",
              "            '<a target=\"_blank\" href=https://colab.research.google.com/notebooks/data_table.ipynb>data table notebook</a>'\n",
              "            + ' to learn more about interactive tables.';\n",
              "          element.innerHTML = '';\n",
              "          dataTable['output_type'] = 'display_data';\n",
              "          await google.colab.output.renderOutput(dataTable, element);\n",
              "          const docLink = document.createElement('div');\n",
              "          docLink.innerHTML = docLinkHtml;\n",
              "          element.appendChild(docLink);\n",
              "        }\n",
              "      </script>\n",
              "    </div>\n",
              "  </div>\n",
              "  "
            ]
          },
          "metadata": {},
          "execution_count": 20
        }
      ]
    },
    {
      "cell_type": "markdown",
      "source": [
        "##Retornos esperados"
      ],
      "metadata": {
        "id": "TzKwV8uyh9Fn"
      }
    },
    {
      "cell_type": "code",
      "source": [
        "r_e_BB = r_e['BB']\n",
        "r_e_BB"
      ],
      "metadata": {
        "id": "71qAAAtYgh5P",
        "colab": {
          "base_uri": "https://localhost:8080/"
        },
        "outputId": "0d33b6e7-3c51-4460-ee14-165918ce4fdc"
      },
      "execution_count": null,
      "outputs": [
        {
          "output_type": "execute_result",
          "data": {
            "text/plain": [
              "0.0011317325793669915"
            ]
          },
          "metadata": {},
          "execution_count": 21
        }
      ]
    },
    {
      "cell_type": "code",
      "source": [
        "r_e_EMB = r_e['EMBRAER']\n",
        "r_e_EMB"
      ],
      "metadata": {
        "id": "y8uGRwqfh35r",
        "colab": {
          "base_uri": "https://localhost:8080/"
        },
        "outputId": "6a40fcb3-f4f6-479b-c0d8-e4e325eb6b90"
      },
      "execution_count": null,
      "outputs": [
        {
          "output_type": "execute_result",
          "data": {
            "text/plain": [
              "-0.002809836489981582"
            ]
          },
          "metadata": {},
          "execution_count": 22
        }
      ]
    },
    {
      "cell_type": "code",
      "source": [
        "r_e_PET = r_e['PETRO']\n",
        "r_e_PET"
      ],
      "metadata": {
        "id": "flwRDxVBiMvI",
        "colab": {
          "base_uri": "https://localhost:8080/"
        },
        "outputId": "6f0d965a-55b8-4c28-d039-c11e51f3338b"
      },
      "execution_count": null,
      "outputs": [
        {
          "output_type": "execute_result",
          "data": {
            "text/plain": [
              "0.0019671705333923566"
            ]
          },
          "metadata": {},
          "execution_count": 23
        }
      ]
    },
    {
      "cell_type": "code",
      "source": [
        "r_e_VAL = r_e['VALE']\n",
        "r_e_VAL"
      ],
      "metadata": {
        "id": "12cTc7LtiRHn",
        "colab": {
          "base_uri": "https://localhost:8080/"
        },
        "outputId": "33ef55e7-6b3d-4aec-a4a8-924d8b107a0c"
      },
      "execution_count": null,
      "outputs": [
        {
          "output_type": "execute_result",
          "data": {
            "text/plain": [
              "0.0012825493218771688"
            ]
          },
          "metadata": {},
          "execution_count": 24
        }
      ]
    },
    {
      "cell_type": "code",
      "source": [
        "r_e_IB = r_e['IBOV']\n",
        "r_e_IB"
      ],
      "metadata": {
        "id": "XLsoQrC3iTi3",
        "colab": {
          "base_uri": "https://localhost:8080/"
        },
        "outputId": "11ce0e14-8353-4139-ac87-ef8e8cb471e8"
      },
      "execution_count": null,
      "outputs": [
        {
          "output_type": "execute_result",
          "data": {
            "text/plain": [
              "2.6675397131020122e-06"
            ]
          },
          "metadata": {},
          "execution_count": 25
        }
      ]
    },
    {
      "cell_type": "code",
      "source": [
        "##Volatilidade e Covariância\n",
        "vol_BB = vol['BB']\n",
        "vol_EMB = vol['EMBRAER']\n",
        "vol_PET = vol['PETRO']\n",
        "vol_VALE = vol['VALE']\n",
        "vol_IBOV = vol['IBOV']\n",
        "\n",
        "cov_invests = retornos['BB'].cov(retornos['EMBRAER'])\n",
        "cov_invests\n",
        "\n",
        "\n",
        "#Peso de cada ativo\n",
        "\n",
        "wa = 0.7\n",
        "wb = 1 - wa\n",
        "\n",
        "#Retorno e risco desta carteira de investimentos\n",
        "\n",
        "ret_port = wa * r_e_BB + wb * r_e_EMB\n",
        "vol_port = (wa ** 2 * vol_BB + wb ** 2 * vol_EMB**2+2*wa*wb*cov_invests) ** 0.5\n",
        "\n",
        "dados = pd.DataFrame(data=[wa,wb,ret_port, vol_port], index = ['BB (%)','EMBRAER (%)','Retorno','Risco'], columns =['Carteira de investimentos'])\n",
        "dados\n",
        "\n",
        "\n",
        "\n"
      ],
      "metadata": {
        "id": "uSg2jPsuiWoW",
        "colab": {
          "base_uri": "https://localhost:8080/",
          "height": 175
        },
        "outputId": "1bad2142-9888-4611-a28d-ae976c8b8449"
      },
      "execution_count": null,
      "outputs": [
        {
          "output_type": "execute_result",
          "data": {
            "text/plain": [
              "             Carteira de investimentos\n",
              "BB (%)                        0.700000\n",
              "EMBRAER (%)                   0.300000\n",
              "Retorno                      -0.000051\n",
              "Risco                         0.092254"
            ],
            "text/html": [
              "\n",
              "  <div id=\"df-e9f83d53-e395-4700-b23e-1c630f0370cf\">\n",
              "    <div class=\"colab-df-container\">\n",
              "      <div>\n",
              "<style scoped>\n",
              "    .dataframe tbody tr th:only-of-type {\n",
              "        vertical-align: middle;\n",
              "    }\n",
              "\n",
              "    .dataframe tbody tr th {\n",
              "        vertical-align: top;\n",
              "    }\n",
              "\n",
              "    .dataframe thead th {\n",
              "        text-align: right;\n",
              "    }\n",
              "</style>\n",
              "<table border=\"1\" class=\"dataframe\">\n",
              "  <thead>\n",
              "    <tr style=\"text-align: right;\">\n",
              "      <th></th>\n",
              "      <th>Carteira de investimentos</th>\n",
              "    </tr>\n",
              "  </thead>\n",
              "  <tbody>\n",
              "    <tr>\n",
              "      <th>BB (%)</th>\n",
              "      <td>0.700000</td>\n",
              "    </tr>\n",
              "    <tr>\n",
              "      <th>EMBRAER (%)</th>\n",
              "      <td>0.300000</td>\n",
              "    </tr>\n",
              "    <tr>\n",
              "      <th>Retorno</th>\n",
              "      <td>-0.000051</td>\n",
              "    </tr>\n",
              "    <tr>\n",
              "      <th>Risco</th>\n",
              "      <td>0.092254</td>\n",
              "    </tr>\n",
              "  </tbody>\n",
              "</table>\n",
              "</div>\n",
              "      <button class=\"colab-df-convert\" onclick=\"convertToInteractive('df-e9f83d53-e395-4700-b23e-1c630f0370cf')\"\n",
              "              title=\"Convert this dataframe to an interactive table.\"\n",
              "              style=\"display:none;\">\n",
              "        \n",
              "  <svg xmlns=\"http://www.w3.org/2000/svg\" height=\"24px\"viewBox=\"0 0 24 24\"\n",
              "       width=\"24px\">\n",
              "    <path d=\"M0 0h24v24H0V0z\" fill=\"none\"/>\n",
              "    <path d=\"M18.56 5.44l.94 2.06.94-2.06 2.06-.94-2.06-.94-.94-2.06-.94 2.06-2.06.94zm-11 1L8.5 8.5l.94-2.06 2.06-.94-2.06-.94L8.5 2.5l-.94 2.06-2.06.94zm10 10l.94 2.06.94-2.06 2.06-.94-2.06-.94-.94-2.06-.94 2.06-2.06.94z\"/><path d=\"M17.41 7.96l-1.37-1.37c-.4-.4-.92-.59-1.43-.59-.52 0-1.04.2-1.43.59L10.3 9.45l-7.72 7.72c-.78.78-.78 2.05 0 2.83L4 21.41c.39.39.9.59 1.41.59.51 0 1.02-.2 1.41-.59l7.78-7.78 2.81-2.81c.8-.78.8-2.07 0-2.86zM5.41 20L4 18.59l7.72-7.72 1.47 1.35L5.41 20z\"/>\n",
              "  </svg>\n",
              "      </button>\n",
              "      \n",
              "  <style>\n",
              "    .colab-df-container {\n",
              "      display:flex;\n",
              "      flex-wrap:wrap;\n",
              "      gap: 12px;\n",
              "    }\n",
              "\n",
              "    .colab-df-convert {\n",
              "      background-color: #E8F0FE;\n",
              "      border: none;\n",
              "      border-radius: 50%;\n",
              "      cursor: pointer;\n",
              "      display: none;\n",
              "      fill: #1967D2;\n",
              "      height: 32px;\n",
              "      padding: 0 0 0 0;\n",
              "      width: 32px;\n",
              "    }\n",
              "\n",
              "    .colab-df-convert:hover {\n",
              "      background-color: #E2EBFA;\n",
              "      box-shadow: 0px 1px 2px rgba(60, 64, 67, 0.3), 0px 1px 3px 1px rgba(60, 64, 67, 0.15);\n",
              "      fill: #174EA6;\n",
              "    }\n",
              "\n",
              "    [theme=dark] .colab-df-convert {\n",
              "      background-color: #3B4455;\n",
              "      fill: #D2E3FC;\n",
              "    }\n",
              "\n",
              "    [theme=dark] .colab-df-convert:hover {\n",
              "      background-color: #434B5C;\n",
              "      box-shadow: 0px 1px 3px 1px rgba(0, 0, 0, 0.15);\n",
              "      filter: drop-shadow(0px 1px 2px rgba(0, 0, 0, 0.3));\n",
              "      fill: #FFFFFF;\n",
              "    }\n",
              "  </style>\n",
              "\n",
              "      <script>\n",
              "        const buttonEl =\n",
              "          document.querySelector('#df-e9f83d53-e395-4700-b23e-1c630f0370cf button.colab-df-convert');\n",
              "        buttonEl.style.display =\n",
              "          google.colab.kernel.accessAllowed ? 'block' : 'none';\n",
              "\n",
              "        async function convertToInteractive(key) {\n",
              "          const element = document.querySelector('#df-e9f83d53-e395-4700-b23e-1c630f0370cf');\n",
              "          const dataTable =\n",
              "            await google.colab.kernel.invokeFunction('convertToInteractive',\n",
              "                                                     [key], {});\n",
              "          if (!dataTable) return;\n",
              "\n",
              "          const docLinkHtml = 'Like what you see? Visit the ' +\n",
              "            '<a target=\"_blank\" href=https://colab.research.google.com/notebooks/data_table.ipynb>data table notebook</a>'\n",
              "            + ' to learn more about interactive tables.';\n",
              "          element.innerHTML = '';\n",
              "          dataTable['output_type'] = 'display_data';\n",
              "          await google.colab.output.renderOutput(dataTable, element);\n",
              "          const docLink = document.createElement('div');\n",
              "          docLink.innerHTML = docLinkHtml;\n",
              "          element.appendChild(docLink);\n",
              "        }\n",
              "      </script>\n",
              "    </div>\n",
              "  </div>\n",
              "  "
            ]
          },
          "metadata": {},
          "execution_count": 26
        }
      ]
    },
    {
      "cell_type": "code",
      "source": [
        "## Montar curva de risco e retorno"
      ],
      "metadata": {
        "id": "oQwiJHe_kNki"
      },
      "execution_count": null,
      "outputs": []
    },
    {
      "cell_type": "code",
      "source": [
        ""
      ],
      "metadata": {
        "id": "NgW09MAKAmPG"
      },
      "execution_count": null,
      "outputs": []
    },
    {
      "cell_type": "code",
      "source": [
        ""
      ],
      "metadata": {
        "id": "h1NbPFOxAnPb"
      },
      "execution_count": null,
      "outputs": []
    },
    {
      "cell_type": "code",
      "source": [
        ""
      ],
      "metadata": {
        "id": "BMzM5refAnMx"
      },
      "execution_count": null,
      "outputs": []
    },
    {
      "cell_type": "code",
      "source": [
        ""
      ],
      "metadata": {
        "id": "EoZDVNjXAnJ9"
      },
      "execution_count": null,
      "outputs": []
    }
  ]
}